{
 "cells": [
  {
   "cell_type": "code",
   "execution_count": 4,
   "id": "42bd8adc-63be-4ae8-b77a-fbf548142721",
   "metadata": {},
   "outputs": [
    {
     "name": "stdin",
     "output_type": "stream",
     "text": [
      "enter the marks 79\n"
     ]
    },
    {
     "name": "stdout",
     "output_type": "stream",
     "text": [
      "part of a1 batch\n"
     ]
    }
   ],
   "source": [
    "\n",
    "marks=int(input(\"enter the marks\"))\n",
    "\n",
    "if marks>=80:\n",
    "    print(\"part of a0 batch\")\n",
    "elif marks>=60 and marks <80:\n",
    "    print(\"part of a1 batch\")\n",
    "elif marks>=40 and marks<60:\n",
    "    print(\"part of a2 batch\")\n",
    "else:\n",
    "    print(\"part of a3 batch\")\n",
    "    \n",
    "\n",
    "    "
   ]
  },
  {
   "cell_type": "code",
   "execution_count": 10,
   "id": "63dabf3d-d5e2-4031-9e40-4a7566443be6",
   "metadata": {},
   "outputs": [
    {
     "name": "stdin",
     "output_type": "stream",
     "text": [
      "enter price 1200\n"
     ]
    },
    {
     "name": "stdout",
     "output_type": "stream",
     "text": [
      "i will not purchase\n",
      "its ok\n"
     ]
    }
   ],
   "source": [
    "price=int(input(\"enter price\"))\n",
    "if price>1000:\n",
    "    \n",
    "    print(\"i will not purchase\")\n",
    "    if price>5000:\n",
    "        print(\"this is too much\")\n",
    "    elif price<2000:\n",
    "        print(\"its ok\")\n",
    "    \n",
    "else:\n",
    "    print(\"i will purchase\")"
   ]
  },
  {
   "cell_type": "code",
   "execution_count": 22,
   "id": "4bfd96e0-6a7e-418d-a2e6-0feb4ca26405",
   "metadata": {},
   "outputs": [
    {
     "name": "stdout",
     "output_type": "stream",
     "text": [
      "[2, 3, 4, 5, 6, 7, 8, 9]\n"
     ]
    }
   ],
   "source": [
    "l=[1,2,3,4,5,6,7,8]\n",
    "l1=[]\n",
    "\n",
    "for i in l:\n",
    "   l1.append(i+1)\n",
    "print(l1)\n",
    "    \n",
    "    \n",
    "    \n"
   ]
  },
  {
   "cell_type": "code",
   "execution_count": 27,
   "id": "5fcdd9af-4b4c-4b78-afd6-83cf290817d6",
   "metadata": {},
   "outputs": [
    {
     "name": "stdout",
     "output_type": "stream",
     "text": [
      "['SONU', 'COURSE', 'ASFIYA', 'SAM']\n"
     ]
    }
   ],
   "source": [
    "l=[\"sonu\",\"course\",\"asfiya\",\"sam\"]\n",
    "l1=[]\n",
    "for i in l:\n",
    "    l1.append(i.upper())\n",
    "    \n",
    "print(l1)"
   ]
  },
  {
   "cell_type": "code",
   "execution_count": 40,
   "id": "11f635d2-910b-45cd-8d87-997f24cad794",
   "metadata": {},
   "outputs": [
    {
     "name": "stdout",
     "output_type": "stream",
     "text": [
      "[1, 2, 3, 4, 5, 6, 7, 23.98]\n",
      "['sudh', 'kumar']\n"
     ]
    }
   ],
   "source": [
    "l=[1,2,3,4,5,6,7,\"sudh\",\"kumar\",23.98,]\n",
    "l1=[]\n",
    "l2=[]\n",
    "for i in l:\n",
    "    if type(i)==int or type(i)==float:\n",
    "        l1.append(i)\n",
    "    else:\n",
    "        l2.append(i)\n",
    "      \n",
    "print(l1)\n",
    "print(l2)"
   ]
  },
  {
   "cell_type": "code",
   "execution_count": null,
   "id": "1e838c09-f587-4f45-8159-62a01d118deb",
   "metadata": {},
   "outputs": [],
   "source": []
  }
 ],
 "metadata": {
  "kernelspec": {
   "display_name": "Python 3 (ipykernel)",
   "language": "python",
   "name": "python3"
  },
  "language_info": {
   "codemirror_mode": {
    "name": "ipython",
    "version": 3
   },
   "file_extension": ".py",
   "mimetype": "text/x-python",
   "name": "python",
   "nbconvert_exporter": "python",
   "pygments_lexer": "ipython3",
   "version": "3.10.8"
  }
 },
 "nbformat": 4,
 "nbformat_minor": 5
}
